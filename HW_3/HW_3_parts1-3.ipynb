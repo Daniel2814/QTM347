{
 "cells": [
  {
   "cell_type": "markdown",
   "id": "5e5d97f8",
   "metadata": {},
   "source": [
    "# COVID-19 Case Study\n",
    "## DATASCI 347\n",
    "Xinmo Chen\n",
    "\n",
    "Aadit Narayanan\n",
    "\n",
    "Daniel Nickas\n",
    "\n",
    "# 1) There are two main goals for this case study:\n",
    "\n",
    "1. We show the dynamic evolvement of COVID cases and COVID-related death at state level.\n",
    "2. We try to figure out what county-level demographic and policy interventions are associated\n",
    "with mortality rate in the US. We try to construct models to find possible factors related to\n",
    "county-level COVID-19 mortality rates."
   ]
  },
  {
   "cell_type": "markdown",
   "id": "7b642a86",
   "metadata": {},
   "source": [
    "# 2) Data Summary:\n",
    "\n",
    "#### County-level infection and fatality data  \n",
    "\n",
    "- This dataset gives daily cumulative numbers on infection and fatality for each county.\n",
    "\n",
    "#### NYC data\n",
    "\n",
    "#### County-level socioeconomic data\n",
    "\n",
    "- The following are the four relevant datasets from this site:\n",
    "    - Income - Poverty level and household income.\n",
    "    - Jobs - Employment type, rate, and change.\n",
    "    - People - Population size, density, education level, race, age, household size, and migration\n",
    "rates.\n",
    "    - County Classifications - Type of county (rural or urban on a rural-urban continuum\n",
    "scale).\n",
    "\n",
    "#### Intervention Policy Data \n",
    "\n",
    "- This dataset is a manually compiled list of the dates that interventions/lockdown policies were implemented and lifted at the county level."
   ]
  },
  {
   "cell_type": "markdown",
   "id": "eb872664",
   "metadata": {},
   "source": [
    "# 3) EDA:\n",
    "\n",
    "### In this case study, we use the following three cleaned data:\n",
    "\n",
    "##### covid_county.csv: County-level socioeconomic information that combines the above-mentioned\n",
    "    - 4 datasets Income, Jobs, People, and County Classifications\n",
    "\n",
    "##### covid_rates.csv: Daily cumulative numbers on infection and fatality for each county\n",
    "\n",
    "##### covid_intervention.csv: County-level lockdown intervention.\n",
    "\n",
    "*Among all data, the unique identifier of county is FIPS.*\n",
    "\n",
    "## 3.1) Understanding the Data\n",
    "\n",
    "#### Covid County dataset (covid_county.csv):\n",
    "\n",
    "Covid County concerns socioeconomic data ranging from the 2000s to the 2020s. A FIPS code (unique county identifier) acts as the join key to other datasets. Data related to population characterstics such as income, education, employment, race, location, location characteristics (metro vs. non metro areas) are crucial to finding what variables may (or may not) impact the effect of covid intervention policies. Socioeconomic variables from mixed sources/years have suppressed values for some counties, yielding scattered nulls across income, poverty, education, and related fields...this may be attributed to poor data recording or insufficient research. Structure of the data is shown below.\n",
    "\n",
    "\n",
    "#### Covid Rates dataset (covid_rates.csv):\n",
    "\n",
    "Covid Rates is a panel data that includes date (observation date), county and state (names), FIPS (unique county code), and cases and deaths (cumulative counts). A FIPS code (unique identifier) as the join key to other county datasets, parse date as a date type, and keep FIPS as a string to preserve leading zeros. Counts are cumulative from January 2020 to February 2021, so differentiating by date within county yields daily new cases and deaths. Structure of data is shown below. Daily cumulative series have gaps/backfills that produce NaNs in some dates/counts and occasional missing FIPS/population fields affecting per-100k calculations.\n",
    "\n",
    "#### Intervention (covid_intervention.csv):\n",
    "\n",
    "The Covid Intervention dataset is a county-level timeline of non-pharmaceutical COVID-19 policies. Each row records a policy event for a county (keyed by FIPS code) including the policy type (e.g., stay-at-home, school/business closures, gathering limits, mask mandates), the date it was implemented, and when it was lifted (noted as missing if still in effect at the time this data was finalized in this form). Counties can have multiple rows for different policy types or changes over time. Use FIPS to join to covid_rates and align by date ranges to construct policy exposure indicators and analyze associations with cases/deaths. Event records often lack lift (end) dates and some county-policy entries, so nulls indicate policies still in effect or unreported. Structure of data is shown below. "
   ]
  },
  {
   "cell_type": "code",
   "execution_count": 27,
   "id": "f650a524",
   "metadata": {},
   "outputs": [],
   "source": [
    "# import packages\n",
    "import pandas as pd\n",
    "import numpy as np\n",
    "from matplotlib.pyplot import subplots\n",
    "from statsmodels.api import OLS\n",
    "import sklearn.model_selection as skm\n",
    "import sklearn.linear_model as skl\n",
    "from sklearn.preprocessing import StandardScaler\n",
    "from ISLP import load_data\n",
    "from ISLP.models import ModelSpec as MS\n",
    "from functools import partial"
   ]
  },
  {
   "cell_type": "code",
   "execution_count": 28,
   "id": "ca9e0bc1",
   "metadata": {},
   "outputs": [
    {
     "name": "stdout",
     "output_type": "stream",
     "text": [
      "       FIPS State         County  MedHHInc  PerCapitaInc  PovertyUnder18Pct  \\\n",
      "0         0    US  United States   61937.0       32621.0               18.0   \n",
      "1      1000    AL        Alabama   49881.0       26846.0               23.9   \n",
      "2      1001    AL        Autauga   59338.0       29372.0               19.3   \n",
      "3      1003    AL        Baldwin   57588.0       31203.0               13.9   \n",
      "4      1005    AL        Barbour   34382.0       18461.0               43.9   \n",
      "...     ...   ...            ...       ...           ...                ...   \n",
      "3274  72147    PR        Vieques       NaN       11156.0                NaN   \n",
      "3275  72149    PR       Villalba       NaN       10677.0                NaN   \n",
      "3276  72151    PR        Yabucoa       NaN        9148.0                NaN   \n",
      "3277  72153    PR          Yauco       NaN        8339.0                NaN   \n",
      "3278  72153    PR          Yauco       NaN        8339.0                NaN   \n",
      "\n",
      "      PovertyAllAgesPct  Deep_Pov_All  Deep_Pov_Children  PovertyUnder18Num  \\\n",
      "0                  13.1      6.249590           8.598276         12997532.0   \n",
      "1                  16.8      7.611623          11.591313           255613.0   \n",
      "2                  13.8      6.142609           8.910594             2509.0   \n",
      "3                   9.8      4.482528           6.214526             6442.0   \n",
      "4                  30.9     12.749387          26.709797             2242.0   \n",
      "...                 ...           ...                ...                ...   \n",
      "3274                NaN     23.747851          63.160920                NaN   \n",
      "3275                NaN     24.167835          36.739088                NaN   \n",
      "3276                NaN     28.891108          42.151418                NaN   \n",
      "3277                NaN     27.181356          35.961619                NaN   \n",
      "3278                NaN     27.181356          35.961619                NaN   \n",
      "\n",
      "      ...  FarmDependent2003  ManufacturingDependent2000  LowEducation2000  \\\n",
      "0     ...                NaN                         NaN               NaN   \n",
      "1     ...                NaN                         NaN               NaN   \n",
      "2     ...                0.0                         1.0               0.0   \n",
      "3     ...                0.0                         0.0               0.0   \n",
      "4     ...                0.0                         1.0               1.0   \n",
      "...   ...                ...                         ...               ...   \n",
      "3274  ...                NaN                         NaN               NaN   \n",
      "3275  ...                NaN                         NaN               NaN   \n",
      "3276  ...                NaN                         NaN               NaN   \n",
      "3277  ...                NaN                         NaN               NaN   \n",
      "3278  ...                NaN                         NaN               NaN   \n",
      "\n",
      "      RetirementDestination2000  PersistentPoverty2000  Noncore2013  \\\n",
      "0                           NaN                    NaN          NaN   \n",
      "1                           NaN                    NaN          NaN   \n",
      "2                           0.0                    0.0          0.0   \n",
      "3                           1.0                    0.0          0.0   \n",
      "4                           0.0                    1.0          1.0   \n",
      "...                         ...                    ...          ...   \n",
      "3274                        NaN                    NaN          1.0   \n",
      "3275                        NaN                    NaN          0.0   \n",
      "3276                        NaN                    NaN          0.0   \n",
      "3277                        NaN                    NaN          0.0   \n",
      "3278                        NaN                    NaN          0.0   \n",
      "\n",
      "      Type_2015_Nonspecialized_NO  Metro_Adjacent2013  \\\n",
      "0                             NaN                 NaN   \n",
      "1                             NaN                 NaN   \n",
      "2                             1.0                 0.0   \n",
      "3                             0.0                 0.0   \n",
      "4                             0.0                 1.0   \n",
      "...                           ...                 ...   \n",
      "3274                          NaN                 0.0   \n",
      "3275                          NaN                 0.0   \n",
      "3276                          NaN                 0.0   \n",
      "3277                          NaN                 0.0   \n",
      "3278                          NaN                 0.0   \n",
      "\n",
      "      PersistentChildPoverty2004  RecreationDependent2000  \n",
      "0                            NaN                      NaN  \n",
      "1                            NaN                      NaN  \n",
      "2                            0.0                      0.0  \n",
      "3                            0.0                      1.0  \n",
      "4                            1.0                      0.0  \n",
      "...                          ...                      ...  \n",
      "3274                         NaN                      NaN  \n",
      "3275                         NaN                      NaN  \n",
      "3276                         NaN                      NaN  \n",
      "3277                         NaN                      NaN  \n",
      "3278                         NaN                      NaN  \n",
      "\n",
      "[3279 rows x 208 columns]\n",
      "data types: FIPS                             int64\n",
      "State                           object\n",
      "County                          object\n",
      "MedHHInc                       float64\n",
      "PerCapitaInc                   float64\n",
      "                                ...   \n",
      "Noncore2013                    float64\n",
      "Type_2015_Nonspecialized_NO    float64\n",
      "Metro_Adjacent2013             float64\n",
      "PersistentChildPoverty2004     float64\n",
      "RecreationDependent2000        float64\n",
      "Length: 208, dtype: object\n",
      "data summary:                FIPS       MedHHInc  PerCapitaInc  PovertyUnder18Pct  \\\n",
      "count   3279.000000    3193.000000   3273.000000        3193.000000   \n",
      "mean   31341.506557   52944.895709  26719.971586          21.045443   \n",
      "std    16341.443283   13878.755803   6948.215304           8.862190   \n",
      "min        0.000000   25385.000000   5974.000000           2.500000   \n",
      "25%    19020.000000   43783.000000  22553.000000          14.500000   \n",
      "50%    30019.000000   50748.000000  26169.000000          20.100000   \n",
      "75%    46101.500000   59020.000000  30106.000000          26.200000   \n",
      "max    72153.000000  140382.000000  72832.000000          68.300000   \n",
      "\n",
      "       PovertyAllAgesPct  Deep_Pov_All  Deep_Pov_Children  PovertyUnder18Num  \\\n",
      "count        3193.000000   3273.000000        3272.000000       3.193000e+03   \n",
      "mean           15.125274      7.145177          10.238715       1.221190e+04   \n",
      "std             6.092508      4.564796           7.543875       2.358859e+05   \n",
      "min             2.600000      0.000000           0.000000       5.000000e+00   \n",
      "25%            10.800000      4.504704           5.443358       5.030000e+02   \n",
      "50%            14.100000      6.159510           8.686004       1.200000e+03   \n",
      "75%            18.300000      8.215060          12.555167       2.966000e+03   \n",
      "max            54.000000     43.969687          69.205569       1.299753e+07   \n",
      "\n",
      "       PovertyAllAgesNum  PopChangeRate1819  ...  FarmDependent2003  \\\n",
      "count       3.193000e+03        3195.000000  ...        3141.000000   \n",
      "mean        3.932257e+04           0.096154  ...           0.140083   \n",
      "std         7.583740e+05           1.283029  ...           0.347128   \n",
      "min         5.000000e+00         -15.527000  ...           0.000000   \n",
      "25%         1.621000e+03          -0.552500  ...           0.000000   \n",
      "50%         3.876000e+03           0.038000  ...           0.000000   \n",
      "75%         9.874000e+03           0.691000  ...           0.000000   \n",
      "max         4.185232e+07          14.189000  ...           1.000000   \n",
      "\n",
      "       ManufacturingDependent2000  LowEducation2000  \\\n",
      "count                 3141.000000       3141.000000   \n",
      "mean                     0.287806          0.198026   \n",
      "std                      0.452813          0.398575   \n",
      "min                      0.000000          0.000000   \n",
      "25%                      0.000000          0.000000   \n",
      "50%                      0.000000          0.000000   \n",
      "75%                      1.000000          0.000000   \n",
      "max                      1.000000          1.000000   \n",
      "\n",
      "       RetirementDestination2000  PersistentPoverty2000  Noncore2013  \\\n",
      "count                3141.000000            3141.000000  3222.000000   \n",
      "mean                    0.140083               0.122891     0.415580   \n",
      "std                     0.347128               0.328364     0.492898   \n",
      "min                     0.000000               0.000000     0.000000   \n",
      "25%                     0.000000               0.000000     0.000000   \n",
      "50%                     0.000000               0.000000     0.000000   \n",
      "75%                     0.000000               0.000000     1.000000   \n",
      "max                     1.000000               1.000000     1.000000   \n",
      "\n",
      "       Type_2015_Nonspecialized_NO  Metro_Adjacent2013  \\\n",
      "count                  3143.000000         3222.000000   \n",
      "mean                      0.393573            0.319056   \n",
      "std                       0.488620            0.466183   \n",
      "min                       0.000000            0.000000   \n",
      "25%                       0.000000            0.000000   \n",
      "50%                       0.000000            0.000000   \n",
      "75%                       1.000000            1.000000   \n",
      "max                       1.000000            1.000000   \n",
      "\n",
      "       PersistentChildPoverty2004  RecreationDependent2000  \n",
      "count                 3141.000000              3141.000000  \n",
      "mean                     0.233684                 0.106336  \n",
      "std                      0.423241                 0.308316  \n",
      "min                      0.000000                 0.000000  \n",
      "25%                      0.000000                 0.000000  \n",
      "50%                      0.000000                 0.000000  \n",
      "75%                      0.000000                 0.000000  \n",
      "max                      1.000000                 1.000000  \n",
      "\n",
      "[8 rows x 206 columns]\n",
      "missing data: FIPS                             0\n",
      "State                            0\n",
      "County                           0\n",
      "MedHHInc                        86\n",
      "PerCapitaInc                     6\n",
      "                              ... \n",
      "Noncore2013                     57\n",
      "Type_2015_Nonspecialized_NO    136\n",
      "Metro_Adjacent2013              57\n",
      "PersistentChildPoverty2004     138\n",
      "RecreationDependent2000        138\n",
      "Length: 208, dtype: int64\n"
     ]
    }
   ],
   "source": [
    "# County-level Socioeconomic data \n",
    "covid_county = pd.read_csv('covid_county.csv')\n",
    "print(covid_county)\n",
    "print(\"data types:\", covid_county.dtypes)\n",
    "print(\"data summary:\", covid_county.describe())\n",
    "print(\"missing data:\", covid_county.isnull().sum())\n"
   ]
  },
  {
   "cell_type": "code",
   "execution_count": 29,
   "id": "8e5e1045",
   "metadata": {},
   "outputs": [
    {
     "name": "stdout",
     "output_type": "stream",
     "text": [
      "          FIPS        date   County        State  cum_cases  cum_deaths  week  \\\n",
      "0        10001  2020-03-18     Kent     Delaware          3           0     9   \n",
      "1        10001  2020-03-19     Kent     Delaware          4           0     9   \n",
      "2        10001  2020-03-20     Kent     Delaware          4           0     9   \n",
      "3        10001  2020-03-21     Kent     Delaware          5           0     9   \n",
      "4        10001  2020-03-22     Kent     Delaware          5           0    10   \n",
      "...        ...         ...      ...          ...        ...         ...   ...   \n",
      "1008979   9015  2021-02-16  Windham  Connecticut       8963         172    57   \n",
      "1008980   9015  2021-02-17  Windham  Connecticut       8974         174    57   \n",
      "1008981   9015  2021-02-18  Windham  Connecticut       8976         174    57   \n",
      "1008982   9015  2021-02-19  Windham  Connecticut       9028         176    57   \n",
      "1008983   9015  2021-02-20  Windham  Connecticut       9028         176    57   \n",
      "\n",
      "         TotalPopEst2019  \n",
      "0                 180786  \n",
      "1                 180786  \n",
      "2                 180786  \n",
      "3                 180786  \n",
      "4                 180786  \n",
      "...                  ...  \n",
      "1008979           116782  \n",
      "1008980           116782  \n",
      "1008981           116782  \n",
      "1008982           116782  \n",
      "1008983           116782  \n",
      "\n",
      "[1008984 rows x 8 columns]\n",
      "data types: FIPS                int64\n",
      "date               object\n",
      "County             object\n",
      "State              object\n",
      "cum_cases           int64\n",
      "cum_deaths          int64\n",
      "week                int64\n",
      "TotalPopEst2019     int64\n",
      "dtype: object\n",
      "data summary:                FIPS     cum_cases    cum_deaths          week  TotalPopEst2019\n",
      "count  1.008984e+06  1.008984e+06  1.008984e+06  1.008984e+06     1.008984e+06\n",
      "mean   3.057170e+04  2.932837e+03  6.558753e+01  3.412985e+01     1.124047e+05\n",
      "std    1.505423e+04  1.474719e+04  3.229540e+02  1.364022e+01     3.566328e+05\n",
      "min    1.001000e+03  0.000000e+00  0.000000e+00  1.000000e+00     1.690000e+02\n",
      "25%    1.901300e+04  5.400000e+01  1.000000e+00  2.300000e+01     1.217200e+04\n",
      "50%    2.917900e+04  3.660000e+02  7.000000e+00  3.400000e+01     2.777200e+04\n",
      "75%    4.508500e+04  1.557000e+03  3.100000e+01  4.600000e+01     7.422800e+04\n",
      "max    5.604500e+04  1.179633e+06  1.979300e+04  5.700000e+01     1.003911e+07\n",
      "missing data: <bound method DataFrame.sum of           FIPS   date  County  State  cum_cases  cum_deaths   week  \\\n",
      "0        False  False   False  False      False       False  False   \n",
      "1        False  False   False  False      False       False  False   \n",
      "2        False  False   False  False      False       False  False   \n",
      "3        False  False   False  False      False       False  False   \n",
      "4        False  False   False  False      False       False  False   \n",
      "...        ...    ...     ...    ...        ...         ...    ...   \n",
      "1008979  False  False   False  False      False       False  False   \n",
      "1008980  False  False   False  False      False       False  False   \n",
      "1008981  False  False   False  False      False       False  False   \n",
      "1008982  False  False   False  False      False       False  False   \n",
      "1008983  False  False   False  False      False       False  False   \n",
      "\n",
      "         TotalPopEst2019  \n",
      "0                  False  \n",
      "1                  False  \n",
      "2                  False  \n",
      "3                  False  \n",
      "4                  False  \n",
      "...                  ...  \n",
      "1008979            False  \n",
      "1008980            False  \n",
      "1008981            False  \n",
      "1008982            False  \n",
      "1008983            False  \n",
      "\n",
      "[1008984 rows x 8 columns]>\n"
     ]
    }
   ],
   "source": [
    "# County level infection data\n",
    "covid_rates = pd.read_csv(\"covid_rates.csv\")\n",
    "print(covid_rates)\n",
    "print(\"data types:\", covid_rates.dtypes)\n",
    "print(\"data summary:\", covid_rates.describe())\n",
    "print(\"missing data:\", covid_rates.isnull().sum)\n"
   ]
  },
  {
   "cell_type": "code",
   "execution_count": 30,
   "id": "4364afd1",
   "metadata": {},
   "outputs": [
    {
     "name": "stdout",
     "output_type": "stream",
     "text": [
      "       FIPS STATE                         AREA_NAME stay at home  \\\n",
      "0      1000    AL                           alabama   2020-04-05   \n",
      "1      1001    AL                    autauga county   2020-04-05   \n",
      "2      1003    AL                    baldwin county   2020-04-05   \n",
      "3      1005    AL                    barbour county   2020-04-05   \n",
      "4      1007    AL                       bibb county   2020-04-05   \n",
      "...     ...   ...                               ...          ...   \n",
      "3267  72145    PR  vega baja municipio, puerto rico          NaN   \n",
      "3268  72147    PR    vieques municipio, puerto rico          NaN   \n",
      "3269  72149    PR   villalba municipio, puerto rico          NaN   \n",
      "3270  72151    PR    yabucoa municipio, puerto rico          NaN   \n",
      "3271  72153    PR      yauco municipio, puerto rico          NaN   \n",
      "\n",
      "     >50 gatherings >500 gatherings public schools restaurant dine-in  \\\n",
      "0        2020-03-21      2020-03-14     2020-03-17         2020-03-20   \n",
      "1        2020-03-21      2020-03-14     2020-03-17         2020-03-20   \n",
      "2        2020-03-21      2020-03-14     2020-03-17         2020-03-20   \n",
      "3        2020-03-21      2020-03-14     2020-03-17         2020-03-20   \n",
      "4        2020-03-21      2020-03-14     2020-03-17         2020-03-20   \n",
      "...             ...             ...            ...                ...   \n",
      "3267            NaN             NaN     2020-03-17         2020-03-16   \n",
      "3268            NaN             NaN     2020-03-17         2020-03-16   \n",
      "3269            NaN             NaN     2020-03-17         2020-03-16   \n",
      "3270            NaN             NaN     2020-03-17         2020-03-16   \n",
      "3271            NaN             NaN     2020-03-17         2020-03-16   \n",
      "\n",
      "     entertainment/gym federal guidelines foreign travel ban  \\\n",
      "0           2020-03-29         2020-03-17         2020-03-12   \n",
      "1           2020-03-29         2020-03-17         2020-03-12   \n",
      "2           2020-03-29         2020-03-17         2020-03-12   \n",
      "3           2020-03-29         2020-03-17         2020-03-12   \n",
      "4           2020-03-29         2020-03-17         2020-03-12   \n",
      "...                ...                ...                ...   \n",
      "3267        2020-03-16         2020-03-17         2020-03-12   \n",
      "3268        2020-03-16         2020-03-17         2020-03-12   \n",
      "3269        2020-03-16         2020-03-17         2020-03-12   \n",
      "3270        2020-03-16         2020-03-17         2020-03-12   \n",
      "3271        2020-03-16         2020-03-17         2020-03-12   \n",
      "\n",
      "     stay at home rollback >50 gatherings rollback >500 gatherings rollback  \\\n",
      "0               2020-05-01                     NaN                      NaN   \n",
      "1               2020-05-01                     NaN                      NaN   \n",
      "2               2020-05-01                     NaN                      NaN   \n",
      "3               2020-05-01                     NaN                      NaN   \n",
      "4               2020-05-01                     NaN                      NaN   \n",
      "...                    ...                     ...                      ...   \n",
      "3267                   NaN                     NaN                      NaN   \n",
      "3268                   NaN                     NaN                      NaN   \n",
      "3269                   NaN                     NaN                      NaN   \n",
      "3270                   NaN                     NaN                      NaN   \n",
      "3271                   NaN                     NaN                      NaN   \n",
      "\n",
      "     restaurant dine-in rollback entertainment/gym rollback  \n",
      "0                     2020-05-12                 2020-05-12  \n",
      "1                     2020-05-12                 2020-05-12  \n",
      "2                     2020-05-12                 2020-05-12  \n",
      "3                     2020-05-12                 2020-05-12  \n",
      "4                     2020-05-12                 2020-05-12  \n",
      "...                          ...                        ...  \n",
      "3267                         NaN                        NaN  \n",
      "3268                         NaN                        NaN  \n",
      "3269                         NaN                        NaN  \n",
      "3270                         NaN                        NaN  \n",
      "3271                         NaN                        NaN  \n",
      "\n",
      "[3272 rows x 16 columns]\n",
      "data types: FIPS                            int64\n",
      "STATE                          object\n",
      "AREA_NAME                      object\n",
      "stay at home                   object\n",
      ">50 gatherings                 object\n",
      ">500 gatherings                object\n",
      "public schools                 object\n",
      "restaurant dine-in             object\n",
      "entertainment/gym              object\n",
      "federal guidelines             object\n",
      "foreign travel ban             object\n",
      "stay at home rollback          object\n",
      ">50 gatherings rollback        object\n",
      ">500 gatherings rollback       object\n",
      "restaurant dine-in rollback    object\n",
      "entertainment/gym rollback     object\n",
      "dtype: object\n",
      "data summary:                FIPS\n",
      "count   3272.000000\n",
      "mean   31368.095660\n",
      "std    16298.458338\n",
      "min     1000.000000\n",
      "25%    19026.500000\n",
      "50%    30022.000000\n",
      "75%    46101.250000\n",
      "max    72153.000000\n",
      "missing data: FIPS                              0\n",
      "STATE                             0\n",
      "AREA_NAME                         0\n",
      "stay at home                    576\n",
      ">50 gatherings                  200\n",
      ">500 gatherings                 200\n",
      "public schools                    0\n",
      "restaurant dine-in                0\n",
      "entertainment/gym                67\n",
      "federal guidelines                0\n",
      "foreign travel ban                0\n",
      "stay at home rollback           604\n",
      ">50 gatherings rollback        2020\n",
      ">500 gatherings rollback       2230\n",
      "restaurant dine-in rollback     424\n",
      "entertainment/gym rollback      564\n",
      "dtype: int64\n"
     ]
    }
   ],
   "source": [
    "# Intervention policy csv\n",
    "intervention = pd.read_csv(\"covid_intervention.csv\")\n",
    "print(intervention)\n",
    "print(\"data types:\", intervention.dtypes)\n",
    "print(\"data summary:\", intervention.describe())\n",
    "print(\"missing data:\", intervention.isnull().sum())\n"
   ]
  },
  {
   "cell_type": "markdown",
   "id": "e8bfff9d",
   "metadata": {},
   "source": [
    "## 3.2 COVID case trend)\n",
    "\n",
    "It is crucial to decide the right granularity for visualization and analysis. We will compare daily vs weekly total new cases by state and we will see it is hard to interpret daily report."
   ]
  },
  {
   "cell_type": "markdown",
   "id": "965db953",
   "metadata": {},
   "source": [
    "#### i) Plot new COVID cases in NY, WA and FL by state and by day. Any irregular pattern? What is the biggest problem of using single day data?\n",
    "\n",
    "There are noticeable spikes/irregularities around holidays and \"miscellaneous non-working periods.\" For example, Christmas and New Years periods show extreme single day spikes as compared to the rest of the data. Additionally single day data are noisy as they are purely the result of reporting data which is a lagging statistic (not completely up to date nor exact). A better alternative is to use weekly or monthly averages or totals. "
   ]
  },
  {
   "cell_type": "code",
   "execution_count": null,
   "id": "d63c12bd",
   "metadata": {},
   "outputs": [
    {
     "data": {
      "image/png": "[encoded data removed]",
      "text/plain": [
       "<Figure size 1000x600 with 1 Axes>"
      ]
     },
     "metadata": {},
     "output_type": "display_data"
    }
   ],
   "source": [
    "# Let's use the Covid Rates dataset \n",
    "\n",
    "covid_rates['date'] = pd.to_datetime(covid_rates['date'], errors='coerce')\n",
    "\n",
    "# Daily new cases by state\n",
    "cases_state_daily = (\n",
    "    covid_rates\n",
    "    .groupby(['State', 'date'], as_index=False)['cum_cases']\n",
    "    .sum()\n",
    "    .sort_values(['State', 'date'])\n",
    ")\n",
    "cases_state_daily['new_cases'] = cases_state_daily.groupby('State')['cum_cases'].diff()\n",
    "\n",
    "# Let's use NY, WA, FL\n",
    "state_targets = ['New York', 'Washington', 'Florida']\n",
    "\n",
    "plot_df = cases_state_daily[\n",
    "    cases_state_daily['State'].isin(state_targets)\n",
    "].dropna(subset=['new_cases'])\n",
    "\n",
    "\n",
    "fig, ax = subplots(figsize=(10, 6))\n",
    "for st, sdf in plot_df.groupby('State'):\n",
    "    ax.plot(sdf['date'], sdf['new_cases'], label=st, linewidth=1.0)\n",
    "\n",
    "ax.set_title('Daily New COVID-19 Cases by State: NY, WA, FL')\n",
    "ax.set_xlabel('Date')\n",
    "ax.set_ylabel('New cases (daily)')\n",
    "ax.legend(title='State')\n",
    "ax.grid(alpha=0.3)\n"
   ]
  },
  {
   "cell_type": "markdown",
   "id": "a9cb089c",
   "metadata": {},
   "source": [
    "#### ii) Create weekly new cases per 100k weekly case per100k. Plot the spaghetti plots of weekly case per100k by state. Use TotalPopEst2019 as population.\n",
    "\n"
   ]
  },
  {
   "cell_type": "code",
   "execution_count": null,
   "id": "2997293f",
   "metadata": {},
   "outputs": [
    {
     "data": {
      "image/png": "[encoded data removed]",
      "text/plain": [
       "<Figure size 1200x700 with 1 Axes>"
      ]
     },
     "metadata": {},
     "output_type": "display_data"
    }
   ],
   "source": [
    "# Clean types/labels\n",
    "covid_rates['date'] = pd.to_datetime(covid_rates['date'], errors='coerce')\n",
    "covid_rates['State'] = covid_rates['State'].astype(str).str.strip()\n",
    "covid_rates['cum_cases'] = pd.to_numeric(covid_rates['cum_cases'], errors='coerce')\n",
    "\n",
    "# 1) Daily new cases at state level from cumulative counts\n",
    "cases_state_daily = (\n",
    "    covid_rates\n",
    "    .groupby(['State', 'date'], as_index=False)['cum_cases']\n",
    "    .sum()\n",
    "    .sort_values(['State', 'date'])\n",
    ")\n",
    "cases_state_daily['new_cases'] = (\n",
    "    cases_state_daily\n",
    "    .groupby('State')['cum_cases']\n",
    "    .diff()\n",
    ")\n",
    "\n",
    "# 2) Weekly aggregation (Sun-ending weeks)\n",
    "state_weekly = (\n",
    "    cases_state_daily\n",
    "    .groupby(['State', pd.Grouper(key='date', freq='W-SUN')], as_index=False)['new_cases']\n",
    "    .sum()\n",
    "    .rename(columns={'date': 'week_end', 'new_cases': 'weekly_new_cases'})\n",
    ")\n",
    "\n",
    "# 3) Build state populations from county-level rows in covid_rates (deduplicate counties)\n",
    "county_pop = (\n",
    "    covid_rates[['FIPS', 'State', 'TotalPopEst2019']]\n",
    "    .dropna(subset=['FIPS', 'TotalPopEst2019'])\n",
    "    .drop_duplicates(subset=['FIPS'])\n",
    "    .groupby('State', as_index=False)['TotalPopEst2019']\n",
    "    .sum()\n",
    ")\n",
    "\n",
    "# Merge population; compute per 100k\n",
    "state_weekly = state_weekly.merge(county_pop, on='State', how='left')\n",
    "state_weekly['weekly_per100k'] = (\n",
    "    state_weekly['weekly_new_cases'] / state_weekly['TotalPopEst2019']\n",
    ") * 1e5\n",
    "\n",
    "# 4) US aggregate per 100k\n",
    "us_weekly = (\n",
    "    state_weekly\n",
    "    .groupby('week_end', as_index=False)\n",
    "    .agg(weekly_new_cases=('weekly_new_cases', 'sum'),\n",
    "         population=('TotalPopEst2019', 'sum'))\n",
    ")\n",
    "us_weekly['weekly_per100k'] = (us_weekly['weekly_new_cases'] / us_weekly['population']) * 1e5\n",
    "\n",
    "\n",
    "# 6) Plot spaghetti of states and make the US avg line bold\n",
    "fig, ax = subplots(figsize=(12, 7))\n",
    "for st, sdf in state_weekly.dropna(subset=['weekly_per100k']).groupby('State'):\n",
    "    ax.plot(sdf['week_end'], sdf['weekly_per100k'], linewidth=0.9, alpha=0.7)\n",
    "ax.plot(us_weekly['week_end'], us_weekly['weekly_per100k'], color='black', linewidth=2.5, label='US')\n",
    "\n",
    "ax.set_title('Weekly COVID-19 New Cases per 100k: US and States')\n",
    "ax.set_xlabel('Week ending (Sun)')\n",
    "ax.set_ylabel('Weekly new cases per 100,000')\n",
    "ax.legend()\n",
    "ax.grid(alpha=0.3)\n",
    "fig.autofmt_xdate()\n",
    "plt.show()\n"
   ]
  },
  {
   "cell_type": "markdown",
   "id": "d1fa5e0a",
   "metadata": {},
   "source": [
    "### iii) Summarize the COVID case trend among states based on the plot in ii). What could be the possible reasons to explain the variabilities?\n",
    "\n",
    "Generally, holiday seasons/travel seasons such as beginning of July, end of November, December, and early January, show notable spikes in cases per 100k people. One may infer from Covid-19 reporting that during these times (when people often get together in larger groups outside of immediate family) Covid-19 cases increased per 100k weekly. \n",
    "\n",
    "**Variability of case rates within states can depend on:**\n",
    "\n",
    "    - Timing of introductions and community transmission by region\n",
    "    - Population density/urbanization and contact patterns.\n",
    "    - Mobility and behavior changes (holidays mentioned above, business/school closing/reopening).\n",
    "    - Policy implementation (mask mandates, social distancing, etc.)\n",
    "    - Demographics \n",
    "    - Variant types\n",
    "\n"
   ]
  },
  {
   "cell_type": "markdown",
   "id": "be6a11f6",
   "metadata": {},
   "source": [
    "#### iv) (Optional) Use covid intervention to see whether the effectiveness of lockdown in flattening the curve."
   ]
  },
  {
   "cell_type": "markdown",
   "id": "fed5760d",
   "metadata": {},
   "source": [
    "## 3.3 COVID death trend\n",
    "\n",
    "#### i) For each month in 2020, plot the monthly deaths per 100k heatmap by state on US map. \n",
    "\n",
    "Use the same color range across months. \n",
    "\n",
    "(Hints: Set limits in matplotlib.pyplot.clim() or use seaborn.FacetGrid(); use pandas.to datetime() with .dt.month and .dt.year to extract month and year from date; use pandas.DataFrame.merge() with appropriate parameters to complete the missing months with no cases.)\n",
    "\n",
    "\n",
    "\n"
   ]
  },
  {
   "cell_type": "code",
   "execution_count": 36,
   "id": "447dbeeb",
   "metadata": {},
   "outputs": [
    {
     "data": {
      "application/vnd.plotly.v1+json": {
       "config": {
        "plotlyServerURL": "https://plot.ly"
       },
       "data": [
        {
         "coloraxis": "coloraxis",
         "geo": "geo9",
         "hovertemplate": "month=1<br>state_abbr=%{location}<br>Deaths per 100k=%{z}<extra></extra>",
         "locationmode": "USA-states",
         "locations": [
          "AL",
          "AZ",
          "AR",
          "CA",
          "CO",
          "CT",
          "DE",
          "DC",
          "FL",
          "GA",
          "ID",
          "IL",
          "IN",
          "IA",
          "KS",
          "KY",
          "LA",
          "ME",
          "MD",
          "MA",
          "MI",
          "MN",
          "MS",
          "MO",
          "MT",
          "NE",
          "NV",
          "NH",
          "NJ",
          "NM",
          "NY",
          "NC",
          "ND",
          "OH",
          "OK",
          "OR",
          "PA",
          "RI",
          "SC",
          "SD",
          "TN",
          "TX",
          "UT",
          "VT",
          "VA",
          "WA",
          "WV",
          "WI",
          "WY"
         ],
         "name": "",
         "type": "choropleth",
         "z": [
          0,
          0,
          0,
          0,
          0,
          0,
          0,
          0,
          0,
          0,
          0,
          0,
          0,
          0,
          0,
          0,
          0,
          0,
          0,
          0,
          0,
          0,
          0,
          0,
          0,
          0,
          0,
          0,
          0,
          0,
          0,
          0,
          0,
          0,
          0,
          0,
          0,
          0,
          0,
          0,
          0,
          0,
          0,
          0,
          0,
          0,
          0,
          0,
          0
         ]
        },
        {
         "coloraxis": "coloraxis",
         "geo": "geo10",
         "hovertemplate": "month=2<br>state_abbr=%{location}<br>Deaths per 100k=%{z}<extra></extra>",
         "locationmode": "USA-states",
         "locations": [
          "AL",
          "AZ",
          "AR",
          "CA",
          "CO",
          "CT",
          "DE",
          "DC",
          "FL",
          "GA",
          "ID",
          "IL",
          "IN",
          "IA",
          "KS",
          "KY",
          "LA",
          "ME",
          "MD",
          "MA",
          "MI",
          "MN",
          "MS",
          "MO",
          "MT",
          "NE",
          "NV",
          "NH",
          "NJ",
          "NM",
          "NY",
          "NC",
          "ND",
          "OH",
          "OK",
          "OR",
          "PA",
          "RI",
          "SC",
          "SD",
          "TN",
          "TX",
          "UT",
          "VT",
          "VA",
          "WA",
          "WV",
          "WI",
          "WY"
         ],
         "name": "",
         "type": "choropleth",
         "z": [
          0,
          0,
          0,
          0,
          0,
          0,
          0,
          0,
          0,
          0,
          0,
          0,
          0,
          0,
          0,
          0,
          0,
          0,
          0,
          0,
          0,
          0,
          0,
          0,
          0,
          0,
          0,
          0,
          0,
          0,
          0,
          0,
          0,
          0,
          0,
          0,
          0,
          0,
          0,
          0,
          0,
          0,
          0,
          0,
          0,
          0.013132160885254724,
          0,
          0,
          0
         ]
        },
        {
         "coloraxis": "coloraxis",
         "geo": "geo11",
         "hovertemplate": "month=3<br>state_abbr=%{location}<br>Deaths per 100k=%{z}<extra></extra>",
         "locationmode": "USA-states",
         "locations": [
          "AL",
          "AZ",
          "AR",
          "CA",
          "CO",
          "CT",
          "DE",
          "DC",
          "FL",
          "GA",
          "ID",
          "IL",
          "IN",
          "IA",
          "KS",
          "KY",
          "LA",
          "ME",
          "MD",
          "MA",
          "MI",
          "MN",
          "MS",
          "MO",
          "MT",
          "NE",
          "NV",
          "NH",
          "NJ",
          "NM",
          "NY",
          "NC",
          "ND",
          "OH",
          "OK",
          "OR",
          "PA",
          "RI",
          "SC",
          "SD",
          "TN",
          "TX",
          "UT",
          "VT",
          "VA",
          "WA",
          "WV",
          "WI",
          "WY"
         ],
         "name": "",
         "type": "choropleth",
         "z": [
          0.2855286920644438,
          0.2335576448431777,
          0.2319567473566872,
          0.4656786837834966,
          1.1808146787767315,
          1.879231601831774,
          1.0269428732218484,
          1.2752409142627195,
          0.39575864067988165,
          1.1678916814372,
          0.5036190625410939,
          0.8443932407189148,
          0.9060905475594302,
          0.22186512502099795,
          0.3432517057893519,
          0.4028943031417026,
          5.076585454205973,
          0.37196513645169066,
          0.29773325746648843,
          1.2912580524085373,
          2.643474318296537,
          0.17731653412846796,
          0.6720093651225124,
          0.2444020524558496,
          0.3742592006946251,
          0.2067816096707623,
          0.844113090375942,
          0.2206351202571723,
          3.006015408362127,
          0.23845530560670422,
          12.187999924538238,
          0.09534629966731768,
          0.39366875661035455,
          0.47052382133782755,
          0.5812526803961919,
          0.4267691418407549,
          0.5546013201542355,
          0,
          0.42729116435676945,
          0,
          0.0732152966083453,
          0.19657964522616161,
          0.06238384907101092,
          1.1218146473735915,
          0.1405889905464448,
          2.954736199182313,
          0.05579899416733114,
          0.4293736949186543,
          0
         ]
        },
        {
         "coloraxis": "coloraxis",
         "geo": "geo12",
         "hovertemplate": "month=4<br>state_abbr=%{location}<br>Deaths per 100k=%{z}<extra></extra>",
         "locationmode": "USA-states",
         "locations": [
          "AL",
          "AZ",
          "AR",
          "CA",
          "CO",
          "CT",
          "DE",
          "DC",
          "FL",
          "GA",
          "ID",
          "IL",
          "IN",
          "IA",
          "KS",
          "KY",
          "LA",
          "ME",
          "MD",
          "MA",
          "MI",
          "MN",
          "MS",
          "MO",
          "MT",
          "NE",
          "NV",
          "NH",
          "NJ",
          "NM",
          "NY",
          "NC",
          "ND",
          "OH",
          "OK",
          "OR",
          "PA",
          "RI",
          "SC",
          "SD",
          "TN",
          "TX",
          "UT",
          "VT",
          "VA",
          "WA",
          "WV",
          "WI",
          "WY"
         ],
         "name": "",
         "type": "choropleth",
         "z": [
          5.425045149224433,
          4.162821552204874,
          1.7893806224658726,
          4.740305297426571,
          12.346459361915532,
          61.36953350459584,
          14.582588799750248,
          30.46408850738719,
          5.503373097454355,
          9.390225858007165,
          3.0217143752465634,
          17.78749873439658,
          15.641202402952132,
          4.912727768322097,
          4.221995981209028,
          4.969029738747666,
          34.97681334126657,
          3.57086530993623,
          17.31815114263408,
          50.31553849160458,
          35.27636372484356,
          5.904640586477983,
          8.097712849726273,
          5.050975750754225,
          1.1227776020838753,
          3.4118965595675785,
          6.850302387281682,
          5.074607765914963,
          78.37031182625006,
          5.6275452123182195,
          94.21925373971378,
          3.5754862375244136,
          2.099566701921891,
          7.870580284196388,
          5.029099278210531,
          2.0152987253591204,
          19.59851707418277,
          14.253875685436785,
          4.311756294872856,
          1.808606480010942,
          2.8553965677254673,
          2.6589983591117647,
          1.3412527550267346,
          6.570628648902464,
          6.326504574590016,
          7.826767887611815,
          2.399356749195239,
          4.997909808853136,
          1.2094844313436162
         ]
        },
        {
         "coloraxis": "coloraxis",
         "geo": "geo5",
         "hovertemplate": "month=5<br>state_abbr=%{location}<br>Deaths per 100k=%{z}<extra></extra>",
         "locationmode": "USA-states",
         "locations": [
          "AL",
          "AZ",
          "AR",
          "CA",
          "CO",
          "CT",
          "DE",
          "DC",
          "FL",
          "GA",
          "ID",
          "IL",
          "IN",
          "IA",
          "KS",
          "KY",
          "LA",
          "ME",
          "MD",
          "MA",
          "MI",
          "MN",
          "MS",
          "MO",
          "MT",
          "NE",
          "NV",
          "NH",
          "NJ",
          "NM",
          "NY",
          "NC",
          "ND",
          "OH",
          "OK",
          "OR",
          "PA",
          "RI",
          "SC",
          "SD",
          "TN",
          "TX",
          "UT",
          "VT",
          "VA",
          "WA",
          "WV",
          "WI",
          "WY"
         ],
         "name": "",
         "type": "choropleth",
         "z": [
          7.321771460795381,
          8.050869404594243,
          2.3858408299544966,
          5.529934369929022,
          11.634497570300148,
          47.3734653058786,
          21.97657748694756,
          34.28981125017535,
          5.508029081462353,
          8.448377727815874,
          1.063195798697865,
          24.187526007509103,
          15.151022270665882,
          11.885631697553462,
          2.677363305156945,
          4.498986385082346,
          17.725027179092038,
          2.6781489824521727,
          23.43822365722301,
          47.61695424724516,
          17.032385664478827,
          12.358962428754216,
          15.893021485147418,
          7.055072580892191,
          0.09356480017365627,
          5.583103461110583,
          5.908791632631594,
          12.72329193483027,
          50.32542649954572,
          11.112017241272415,
          29.125772911190914,
          5.015215362500911,
          5.511362592544963,
          10.094874712338846,
          2.8304478349727606,
          1.1854698384465414,
          23.2385764430824,
          47.67024649765283,
          4.855581413145107,
          5.086705725030774,
          2.3428894914670497,
          2.948694678392424,
          2.027475094807855,
          1.1218146473735915,
          9.642061601643674,
          3.9921769091174357,
          1.7297688191872653,
          4.774635487495436,
          1.5550514117275067
         ]
        },
        {
         "coloraxis": "coloraxis",
         "geo": "geo6",
         "hovertemplate": "month=6<br>state_abbr=%{location}<br>Deaths per 100k=%{z}<extra></extra>",
         "locationmode": "USA-states",
         "locations": [
          "AL",
          "AZ",
          "AR",
          "CA",
          "CO",
          "CT",
          "DE",
          "DC",
          "FL",
          "GA",
          "ID",
          "IL",
          "IN",
          "IA",
          "KS",
          "KY",
          "LA",
          "ME",
          "MD",
          "MA",
          "MI",
          "MN",
          "MS",
          "MO",
          "MT",
          "NE",
          "NV",
          "NH",
          "NJ",
          "NM",
          "NY",
          "NC",
          "ND",
          "OH",
          "OK",
          "OR",
          "PA",
          "RI",
          "SC",
          "SD",
          "TN",
          "TX",
          "UT",
          "VT",
          "VA",
          "WA",
          "WV",
          "WI",
          "WY"
         ],
         "name": "",
         "type": "choropleth",
         "z": [
          6.5263701043301445,
          10.152888208182842,
          4.539724912552306,
          4.659317700246833,
          4.254405827945577,
          10.602232022274785,
          14.685283087072433,
          12.043941968036794,
          4.907407144430533,
          6.950839200811722,
          0.6155344097724481,
          11.908312151820958,
          7.516095361722487,
          5.7051032148256615,
          2.2311360876307873,
          3.357452526180855,
          9.185177919262502,
          1.19028843664541,
          11.231160101096982,
          18.1211382860479,
          7.079304329680499,
          7.110393018551565,
          11.390558738826584,
          3.9756067199484866,
          0.46782400086828135,
          5.2212356441867485,
          2.85699815204165,
          9.266675050801236,
          37.56956336218883,
          6.724439618109058,
          6.38443521985512,
          4.300118114996028,
          2.3620125396621274,
          6.056924827403307,
          1.3394083504781813,
          1.3514356158290572,
          8.904866267265188,
          25.67585553932984,
          4.758469784882205,
          3.2780992450198325,
          3.470405059235568,
          2.7555637988719845,
          1.6219800758462835,
          0.16025923533908448,
          4.545710694335049,
          2.7840181076740014,
          1.0043818950119605,
          3.297589976975265,
          0.6911339607677808
         ]
        },
        {
         "coloraxis": "coloraxis",
         "geo": "geo7",
         "hovertemplate": "month=7<br>state_abbr=%{location}<br>Deaths per 100k=%{z}<extra></extra>",
         "locationmode": "USA-states",
         "locations": [
          "AL",
          "AZ",
          "AR",
          "CA",
          "CO",
          "CT",
          "DE",
          "DC",
          "FL",
          "GA",
          "ID",
          "IL",
          "IN",
          "IA",
          "KS",
          "KY",
          "LA",
          "ME",
          "MD",
          "MA",
          "MI",
          "MN",
          "MS",
          "MO",
          "MT",
          "NE",
          "NV",
          "NH",
          "NJ",
          "NM",
          "NY",
          "NC",
          "ND",
          "OH",
          "OK",
          "OR",
          "PA",
          "RI",
          "SC",
          "SD",
          "TN",
          "TX",
          "UT",
          "VT",
          "VA",
          "WA",
          "WV",
          "WI",
          "WY"
         ],
         "name": "",
         "type": "choropleth",
         "z": [
          12.848791142899973,
          28.164304231089076,
          6.064012109467679,
          7.944377110849977,
          2.6568330272476457,
          3.0853056149476883,
          7.804765836486048,
          4.817576787214718,
          15.541674618699354,
          8.589654947344567,
          5.651725035183388,
          4.50606112570561,
          4.8275316058494235,
          4.912727768322097,
          2.8146639874726858,
          3.6931977787989405,
          15.530909737019968,
          1.3390744912260863,
          5.276494951767212,
          8.066735698192659,
          2.553355875627337,
          2.8193328926426404,
          19.824276271114115,
          3.4868026150367872,
          3.555462406598938,
          3.050028742643744,
          10.518947741607894,
          3.2359817637718606,
          9.468385612106923,
          6.915203862594422,
          2.0818810499527567,
          5.577758530538085,
          3.1493500528828364,
          5.355416584681455,
          3.917137628756946,
          2.773999421964907,
          4.421187988835172,
          6.702153467986834,
          18.897922859960758,
          4.408478295026671,
          6.589376694751078,
          16.52303649611474,
          4.585212906719303,
          0.16025923533908448,
          4.815172926215734,
          4.176027161511002,
          1.2833768658486162,
          2.593417117308672,
          1.036700941151671
         ]
        },
        {
         "coloraxis": "coloraxis",
         "geo": "geo8",
         "hovertemplate": "month=8<br>state_abbr=%{location}<br>Deaths per 100k=%{z}<extra></extra>",
         "locationmode": "USA-states",
         "locations": [
          "AL",
          "AZ",
          "AR",
          "CA",
          "CO",
          "CT",
          "DE",
          "DC",
          "FL",
          "GA",
          "ID",
          "IL",
          "IN",
          "IA",
          "KS",
          "KY",
          "LA",
          "ME",
          "MD",
          "MA",
          "MI",
          "MN",
          "MS",
          "MO",
          "MT",
          "NE",
          "NV",
          "NH",
          "NJ",
          "NM",
          "NY",
          "NC",
          "ND",
          "OH",
          "OK",
          "OR",
          "PA",
          "RI",
          "SC",
          "SD",
          "TN",
          "TX",
          "UT",
          "VT",
          "VA",
          "WA",
          "WV",
          "WI",
          "WY"
         ],
         "name": "",
         "type": "choropleth",
         "z": [
          12.277733758771085,
          18.382360517657165,
          11.432153976865298,
          9.612215440270218,
          1.9448712356322635,
          0.9255916844843066,
          2.156580033765882,
          3.1172555681977583,
          20.225594530745955,
          17.273494707708263,
          9.568762188280784,
          4.300881459736529,
          4.9166552662651055,
          7.860364429315355,
          3.192240863840973,
          4.7451995703356085,
          20.478429459339345,
          0.7439302729033813,
          4.416376652419579,
          6.557849884142234,
          3.08405337134596,
          3.847768790587755,
          27.21637928746175,
          4.725106347479759,
          4.116851207640876,
          3.5152873644029596,
          15.388830955315251,
          1.2502656814573097,
          2.082819664970013,
          6.533675373623696,
          1.1103365599748036,
          7.494219153851171,
          5.2489167548047275,
          5.552181091786365,
          6.545410618374509,
          3.366734341188178,
          3.7728512342886718,
          3.0206888869799813,
          19.577704257801074,
          4.182402485025304,
          9.884065042126617,
          19.257907700752394,
          3.150384378086051,
          0.16025923533908448,
          4.756594180154716,
          4.596256309839154,
          5.468301428398451,
          3.22889018578828,
          1.9006183921113968
         ]
        },
        {
         "coloraxis": "coloraxis",
         "geo": "geo",
         "hovertemplate": "month=9<br>state_abbr=%{location}<br>Deaths per 100k=%{z}<extra></extra>",
         "locationmode": "USA-states",
         "locations": [
          "AL",
          "AZ",
          "AR",
          "CA",
          "CO",
          "CT",
          "DE",
          "DC",
          "FL",
          "GA",
          "ID",
          "IL",
          "IN",
          "IA",
          "KS",
          "KY",
          "LA",
          "ME",
          "MD",
          "MA",
          "MI",
          "MN",
          "MS",
          "MO",
          "MT",
          "NE",
          "NV",
          "NH",
          "NJ",
          "NM",
          "NY",
          "NC",
          "ND",
          "OH",
          "OK",
          "OR",
          "PA",
          "RI",
          "SC",
          "SD",
          "TN",
          "TX",
          "UT",
          "VT",
          "VA",
          "WA",
          "WV",
          "WI",
          "WY"
         ],
         "name": "",
         "type": "choropleth",
         "z": [
          7.6276950594358555,
          8.586678119234474,
          18.954179926860725,
          7.296476333412069,
          1.8927764703921137,
          1.2060740131159147,
          3.18352290698773,
          2.833868698361599,
          14.573229945035644,
          12.733786720186245,
          5.875555729646096,
          5.082142495541881,
          4.990924983278173,
          7.543414250713931,
          7.242610992155325,
          5.439073092412985,
          11.486850137906735,
          0.6695372456130432,
          3.1758214129758766,
          5.803406977117021,
          3.314356058167249,
          3.883232097413448,
          16.665832255038307,
          8.635539186773352,
          7.110924813197876,
          4.7042816200098425,
          9.609902875049185,
          0.5148152806000688,
          1.9927517875659044,
          4.6737239898914025,
          1.06407253664252,
          7.932812132320831,
          13.64718356249229,
          5.697615727472603,
          5.837798659631319,
          2.2286832962794976,
          3.694738372295118,
          6.985343051141206,
          12.779890279397923,
          6.330122680038297,
          10.352642940420028,
          11.191244715068322,
          1.5907881513107784,
          0,
          7.357490505263945,
          2.889075394756039,
          7.588663206757035,
          3.5036893505362188,
          2.2461853724952876
         ]
        },
        {
         "coloraxis": "coloraxis",
         "geo": "geo2",
         "hovertemplate": "month=10<br>state_abbr=%{location}<br>Deaths per 100k=%{z}<extra></extra>",
         "locationmode": "USA-states",
         "locations": [
          "AL",
          "AZ",
          "AR",
          "CA",
          "CO",
          "CT",
          "DE",
          "DC",
          "FL",
          "GA",
          "ID",
          "IL",
          "IN",
          "IA",
          "KS",
          "KY",
          "LA",
          "ME",
          "MD",
          "MA",
          "MI",
          "MN",
          "MS",
          "MO",
          "MT",
          "NE",
          "NV",
          "NH",
          "NJ",
          "NM",
          "NY",
          "NC",
          "ND",
          "OH",
          "OK",
          "OR",
          "PA",
          "RI",
          "SC",
          "SD",
          "TN",
          "TX",
          "UT",
          "VT",
          "VA",
          "WA",
          "WV",
          "WI",
          "WY"
         ],
         "name": "",
         "type": "choropleth",
         "z": [
          8.708625107965537,
          4.465072622001927,
          18.423993075759725,
          4.46191043212122,
          4.306500593185727,
          3.029209149221367,
          7.393988687197309,
          2.6921752634435188,
          11.379224915548598,
          8.759187610779,
          9.009185452124013,
          8.230861215605872,
          10.397760381829528,
          11.346816393931038,
          12.460036920153474,
          7.677374776533555,
          8.260206840741922,
          0.44635816374202875,
          3.1758214129758766,
          7.747548314451223,
          6.16810674269192,
          7.465026086808502,
          12.264170913485849,
          14.159025572275553,
          18.432265634210285,
          8.322959789248184,
          5.8113939683574465,
          3.2359817637718606,
          2.5669345060170974,
          6.724439618109058,
          1.927667638845145,
          7.961416022221027,
          36.348748527022735,
          4.251824349180006,
          7.733187834836293,
          3.0822215799610078,
          5.2101278949700705,
          6.985343051141206,
          10.8182353884873,
          22.833656810138145,
          13.076251974250473,
          8.43912968190206,
          4.304485585899752,
          0,
          5.225224148642865,
          3.243643738657917,
          5.970492375904432,
          13.121660116714075,
          6.392989137101971
         ]
        },
        {
         "coloraxis": "coloraxis",
         "geo": "geo3",
         "hovertemplate": "month=11<br>state_abbr=%{location}<br>Deaths per 100k=%{z}<extra></extra>",
         "locationmode": "USA-states",
         "locations": [
          "AL",
          "AZ",
          "AR",
          "CA",
          "CO",
          "CT",
          "DE",
          "DC",
          "FL",
          "GA",
          "ID",
          "IL",
          "IN",
          "IA",
          "KS",
          "KY",
          "LA",
          "ME",
          "MD",
          "MA",
          "MI",
          "MN",
          "MS",
          "MO",
          "MT",
          "NE",
          "NV",
          "NH",
          "NJ",
          "NM",
          "NY",
          "NC",
          "ND",
          "OH",
          "OK",
          "OR",
          "PA",
          "RI",
          "SC",
          "SD",
          "TN",
          "TX",
          "UT",
          "VT",
          "VA",
          "WA",
          "WV",
          "WI",
          "WY"
         ],
         "name": "",
         "type": "choropleth",
         "z": [
          12.461287917955369,
          9.08127077890238,
          19.119863317829786,
          3.9177750135698513,
          13.041056231784196,
          11.275389610990644,
          6.572434388619829,
          4.817576787214718,
          8.548386638685443,
          13.308314079602932,
          17.17900580001287,
          25.86052943771854,
          20.661835273035532,
          22.50346268070122,
          15.103075054731484,
          11.504870656379731,
          15.380333049818944,
          3.4964722826458923,
          7.741064694128701,
          10.982947704193963,
          18.55438602955865,
          20.14315827699396,
          15.893021485147418,
          13.165123892288431,
          28.72439365331247,
          20.316293150152397,
          12.012378593811484,
          3.088891683600412,
          7.239205646355234,
          26.230083616737463,
          5.387188494692565,
          8.543028450191665,
          52.88283630465763,
          9.650015826710353,
          10.260373401776258,
          5.429451860085159,
          12.154361326197046,
          10.855600687584309,
          8.662357241050872,
          58.8927485053563,
          17.879175431757925,
          11.791329947863975,
          8.484203473657484,
          1.7628515887299294,
          4.850320173852346,
          5.607432698003767,
          15.512120378518057,
          24.251026289005594,
          22.116286744568985
         ]
        },
        {
         "coloraxis": "coloraxis",
         "geo": "geo4",
         "hovertemplate": "month=12<br>state_abbr=%{location}<br>Deaths per 100k=%{z}<extra></extra>",
         "locationmode": "USA-states",
         "locations": [
          "AL",
          "AZ",
          "AR",
          "CA",
          "CO",
          "CT",
          "DE",
          "DC",
          "FL",
          "GA",
          "ID",
          "IL",
          "IN",
          "IA",
          "KS",
          "KY",
          "LA",
          "ME",
          "MD",
          "MA",
          "MI",
          "MN",
          "MS",
          "MO",
          "MT",
          "NE",
          "NV",
          "NH",
          "NJ",
          "NM",
          "NY",
          "NC",
          "ND",
          "OH",
          "OK",
          "OR",
          "PA",
          "RI",
          "SC",
          "SD",
          "TN",
          "TX",
          "UT",
          "VT",
          "VA",
          "WA",
          "WV",
          "WI",
          "WY"
         ],
         "name": "",
         "type": "choropleth",
         "z": [
          25.473238313463597,
          30.76091569434558,
          38.902460199535824,
          17.0985064545723,
          31.58679265727757,
          27.403123507308106,
          15.814920247616467,
          15.019504101316473,
          14.321806808603718,
          13.04459660314937,
          28.034794481454227,
          39.17353314886629,
          37.72901624263857,
          46.433201165108855,
          30.1374997683051,
          19.94326800551428,
          22.97370027581347,
          11.382133175421734,
          20.493972555609957,
          24.287258199234735,
          34.29507401577894,
          30.675760404224956,
          32.9284588910031,
          29.458594056011734,
          26.011014448276445,
          33.60201157149888,
          32.04383154619441,
          17.20953938005944,
          23.068635100127334,
          43.44655668154151,
          18.23316563995661,
          14.44496439959863,
          47.896365387593136,
          21.669760717249403,
          18.852804329372137,
          13.419518571214848,
          43.59478827860265,
          40.30731733563913,
          17.771427972111095,
          61.26654451037066,
          32.859025117825375,
          21.337513421302837,
          12.445577889666676,
          10.737368767718662,
          11.364276735837622,
          9.941045790137826,
          33.64679348290068,
          29.901584114135087,
          38.53071831280377
         ]
        }
       ],
       "layout": {
        "annotations": [
         {
          "font": {},
          "showarrow": false,
          "text": "month=9",
          "x": 0.1175,
          "xanchor": "center",
          "xref": "paper",
          "y": 0.2866666666666666,
          "yanchor": "bottom",
          "yref": "paper"
         },
         {
          "font": {},
          "showarrow": false,
          "text": "month=10",
          "x": 0.3725,
          "xanchor": "center",
          "xref": "paper",
          "y": 0.2866666666666666,
          "yanchor": "bottom",
          "yref": "paper"
         },
         {
          "font": {},
          "showarrow": false,
          "text": "month=11",
          "x": 0.6275,
          "xanchor": "center",
          "xref": "paper",
          "y": 0.2866666666666666,
          "yanchor": "bottom",
          "yref": "paper"
         },
         {
          "font": {},
          "showarrow": false,
          "text": "month=12",
          "x": 0.8824999999999998,
          "xanchor": "center",
          "xref": "paper",
          "y": 0.2866666666666666,
          "yanchor": "bottom",
          "yref": "paper"
         },
         {
          "font": {},
          "showarrow": false,
          "text": "month=5",
          "x": 0.1175,
          "xanchor": "center",
          "xref": "paper",
          "y": 0.6433333333333333,
          "yanchor": "bottom",
          "yref": "paper"
         },
         {
          "font": {},
          "showarrow": false,
          "text": "month=6",
          "x": 0.3725,
          "xanchor": "center",
          "xref": "paper",
          "y": 0.6433333333333333,
          "yanchor": "bottom",
          "yref": "paper"
         },
         {
          "font": {},
          "showarrow": false,
          "text": "month=7",
          "x": 0.6275,
          "xanchor": "center",
          "xref": "paper",
          "y": 0.6433333333333333,
          "yanchor": "bottom",
          "yref": "paper"
         },
         {
          "font": {},
          "showarrow": false,
          "text": "month=8",
          "x": 0.8824999999999998,
          "xanchor": "center",
          "xref": "paper",
          "y": 0.6433333333333333,
          "yanchor": "bottom",
          "yref": "paper"
         },
         {
          "font": {},
          "showarrow": false,
          "text": "month=1",
          "x": 0.1175,
          "xanchor": "center",
          "xref": "paper",
          "y": 0.9999999999999999,
          "yanchor": "bottom",
          "yref": "paper"
         },
         {
          "font": {},
          "showarrow": false,
          "text": "month=2",
          "x": 0.3725,
          "xanchor": "center",
          "xref": "paper",
          "y": 0.9999999999999999,
          "yanchor": "bottom",
          "yref": "paper"
         },
         {
          "font": {},
          "showarrow": false,
          "text": "month=3",
          "x": 0.6275,
          "xanchor": "center",
          "xref": "paper",
          "y": 0.9999999999999999,
          "yanchor": "bottom",
          "yref": "paper"
         },
         {
          "font": {},
          "showarrow": false,
          "text": "month=4",
          "x": 0.8824999999999998,
          "xanchor": "center",
          "xref": "paper",
          "y": 0.9999999999999999,
          "yanchor": "bottom",
          "yref": "paper"
         }
        ],
        "coloraxis": {
         "cmax": 94.21925373971378,
         "cmin": 0,
         "colorbar": {
          "title": {
           "text": "Deaths/100k"
          }
         },
         "colorscale": [
          [
           0,
           "rgb(255,245,240)"
          ],
          [
           0.125,
           "rgb(254,224,210)"
          ],
          [
           0.25,
           "rgb(252,187,161)"
          ],
          [
           0.375,
           "rgb(252,146,114)"
          ],
          [
           0.5,
           "rgb(251,106,74)"
          ],
          [
           0.625,
           "rgb(239,59,44)"
          ],
          [
           0.75,
           "rgb(203,24,29)"
          ],
          [
           0.875,
           "rgb(165,15,21)"
          ],
          [
           1,
           "rgb(103,0,13)"
          ]
         ]
        },
        "geo": {
         "center": {},
         "domain": {
          "x": [
           0,
           0.235
          ],
          "y": [
           0,
           0.2866666666666666
          ]
         },
         "scope": "usa"
        },
        "geo10": {
         "center": {},
         "domain": {
          "x": [
           0.255,
           0.49
          ],
          "y": [
           0.7133333333333333,
           0.9999999999999999
          ]
         },
         "scope": "usa"
        },
        "geo11": {
         "center": {},
         "domain": {
          "x": [
           0.51,
           0.745
          ],
          "y": [
           0.7133333333333333,
           0.9999999999999999
          ]
         },
         "scope": "usa"
        },
        "geo12": {
         "center": {},
         "domain": {
          "x": [
           0.7649999999999999,
           0.9999999999999999
          ],
          "y": [
           0.7133333333333333,
           0.9999999999999999
          ]
         },
         "scope": "usa"
        },
        "geo2": {
         "center": {},
         "domain": {
          "x": [
           0.255,
           0.49
          ],
          "y": [
           0,
           0.2866666666666666
          ]
         },
         "scope": "usa"
        },
        "geo3": {
         "center": {},
         "domain": {
          "x": [
           0.51,
           0.745
          ],
          "y": [
           0,
           0.2866666666666666
          ]
         },
         "scope": "usa"
        },
        "geo4": {
         "center": {},
         "domain": {
          "x": [
           0.7649999999999999,
           0.9999999999999999
          ],
          "y": [
           0,
           0.2866666666666666
          ]
         },
         "scope": "usa"
        },
        "geo5": {
         "center": {},
         "domain": {
          "x": [
           0,
           0.235
          ],
          "y": [
           0.35666666666666663,
           0.6433333333333333
          ]
         },
         "scope": "usa"
        },
        "geo6": {
         "center": {},
         "domain": {
          "x": [
           0.255,
           0.49
          ],
          "y": [
           0.35666666666666663,
           0.6433333333333333
          ]
         },
         "scope": "usa"
        },
        "geo7": {
         "center": {},
         "domain": {
          "x": [
           0.51,
           0.745
          ],
          "y": [
           0.35666666666666663,
           0.6433333333333333
          ]
         },
         "scope": "usa"
        },
        "geo8": {
         "center": {},
         "domain": {
          "x": [
           0.7649999999999999,
           0.9999999999999999
          ],
          "y": [
           0.35666666666666663,
           0.6433333333333333
          ]
         },
         "scope": "usa"
        },
        "geo9": {
         "center": {},
         "domain": {
          "x": [
           0,
           0.235
          ],
          "y": [
           0.7133333333333333,
           0.9999999999999999
          ]
         },
         "scope": "usa"
        },
        "legend": {
         "tracegroupgap": 0
        },
        "margin": {
         "b": 10,
         "l": 10,
         "r": 10,
         "t": 60
        },
        "template": {
         "data": {
          "bar": [
           {
            "error_x": {
             "color": "#2a3f5f"
            },
            "error_y": {
             "color": "#2a3f5f"
            },
            "marker": {
             "line": {
              "color": "#E5ECF6",
              "width": 0.5
             },
             "pattern": {
              "fillmode": "overlay",
              "size": 10,
              "solidity": 0.2
             }
            },
            "type": "bar"
           }
          ],
          "barpolar": [
           {
            "marker": {
             "line": {
              "color": "#E5ECF6",
              "width": 0.5
             },
             "pattern": {
              "fillmode": "overlay",
              "size": 10,
              "solidity": 0.2
             }
            },
            "type": "barpolar"
           }
          ],
          "carpet": [
           {
            "aaxis": {
             "endlinecolor": "#2a3f5f",
             "gridcolor": "white",
             "linecolor": "white",
             "minorgridcolor": "white",
             "startlinecolor": "#2a3f5f"
            },
            "baxis": {
             "endlinecolor": "#2a3f5f",
             "gridcolor": "white",
             "linecolor": "white",
             "minorgridcolor": "white",
             "startlinecolor": "#2a3f5f"
            },
            "type": "carpet"
           }
          ],
          "choropleth": [
           {
            "colorbar": {
             "outlinewidth": 0,
             "ticks": ""
            },
            "type": "choropleth"
           }
          ],
          "contour": [
           {
            "colorbar": {
             "outlinewidth": 0,
             "ticks": ""
            },
            "colorscale": [
             [
              0,
              "#0d0887"
             ],
             [
              0.1111111111111111,
              "#46039f"
             ],
             [
              0.2222222222222222,
              "#7201a8"
             ],
             [
              0.3333333333333333,
              "#9c179e"
             ],
             [
              0.4444444444444444,
              "#bd3786"
             ],
             [
              0.5555555555555556,
              "#d8576b"
             ],
             [
              0.6666666666666666,
              "#ed7953"
             ],
             [
              0.7777777777777778,
              "#fb9f3a"
             ],
             [
              0.8888888888888888,
              "#fdca26"
             ],
             [
              1,
              "#f0f921"
             ]
            ],
            "type": "contour"
           }
          ],
          "contourcarpet": [
           {
            "colorbar": {
             "outlinewidth": 0,
             "ticks": ""
            },
            "type": "contourcarpet"
           }
          ],
          "heatmap": [
           {
            "colorbar": {
             "outlinewidth": 0,
             "ticks": ""
            },
            "colorscale": [
             [
              0,
              "#0d0887"
             ],
             [
              0.1111111111111111,
              "#46039f"
             ],
             [
              0.2222222222222222,
              "#7201a8"
             ],
             [
              0.3333333333333333,
              "#9c179e"
             ],
             [
              0.4444444444444444,
              "#bd3786"
             ],
             [
              0.5555555555555556,
              "#d8576b"
             ],
             [
              0.6666666666666666,
              "#ed7953"
             ],
             [
              0.7777777777777778,
              "#fb9f3a"
             ],
             [
              0.8888888888888888,
              "#fdca26"
             ],
             [
              1,
              "#f0f921"
             ]
            ],
            "type": "heatmap"
           }
          ],
          "heatmapgl": [
           {
            "colorbar": {
             "outlinewidth": 0,
             "ticks": ""
            },
            "colorscale": [
             [
              0,
              "#0d0887"
             ],
             [
              0.1111111111111111,
              "#46039f"
             ],
             [
              0.2222222222222222,
              "#7201a8"
             ],
             [
              0.3333333333333333,
              "#9c179e"
             ],
             [
              0.4444444444444444,
              "#bd3786"
             ],
             [
              0.5555555555555556,
              "#d8576b"
             ],
             [
              0.6666666666666666,
              "#ed7953"
             ],
             [
              0.7777777777777778,
              "#fb9f3a"
             ],
             [
              0.8888888888888888,
              "#fdca26"
             ],
             [
              1,
              "#f0f921"
             ]
            ],
            "type": "heatmapgl"
           }
          ],
          "histogram": [
           {
            "marker": {
             "pattern": {
              "fillmode": "overlay",
              "size": 10,
              "solidity": 0.2
             }
            },
            "type": "histogram"
           }
          ],
          "histogram2d": [
           {
            "colorbar": {
             "outlinewidth": 0,
             "ticks": ""
            },
            "colorscale": [
             [
              0,
              "#0d0887"
             ],
             [
              0.1111111111111111,
              "#46039f"
             ],
             [
              0.2222222222222222,
              "#7201a8"
             ],
             [
              0.3333333333333333,
              "#9c179e"
             ],
             [
              0.4444444444444444,
              "#bd3786"
             ],
             [
              0.5555555555555556,
              "#d8576b"
             ],
             [
              0.6666666666666666,
              "#ed7953"
             ],
             [
              0.7777777777777778,
              "#fb9f3a"
             ],
             [
              0.8888888888888888,
              "#fdca26"
             ],
             [
              1,
              "#f0f921"
             ]
            ],
            "type": "histogram2d"
           }
          ],
          "histogram2dcontour": [
           {
            "colorbar": {
             "outlinewidth": 0,
             "ticks": ""
            },
            "colorscale": [
             [
              0,
              "#0d0887"
             ],
             [
              0.1111111111111111,
              "#46039f"
             ],
             [
              0.2222222222222222,
              "#7201a8"
             ],
             [
              0.3333333333333333,
              "#9c179e"
             ],
             [
              0.4444444444444444,
              "#bd3786"
             ],
             [
              0.5555555555555556,
              "#d8576b"
             ],
             [
              0.6666666666666666,
              "#ed7953"
             ],
             [
              0.7777777777777778,
              "#fb9f3a"
             ],
             [
              0.8888888888888888,
              "#fdca26"
             ],
             [
              1,
              "#f0f921"
             ]
            ],
            "type": "histogram2dcontour"
           }
          ],
          "mesh3d": [
           {
            "colorbar": {
             "outlinewidth": 0,
             "ticks": ""
            },
            "type": "mesh3d"
           }
          ],
          "parcoords": [
           {
            "line": {
             "colorbar": {
              "outlinewidth": 0,
              "ticks": ""
             }
            },
            "type": "parcoords"
           }
          ],
          "pie": [
           {
            "automargin": true,
            "type": "pie"
           }
          ],
          "scatter": [
           {
            "fillpattern": {
             "fillmode": "overlay",
             "size": 10,
             "solidity": 0.2
            },
            "type": "scatter"
           }
          ],
          "scatter3d": [
           {
            "line": {
             "colorbar": {
              "outlinewidth": 0,
              "ticks": ""
             }
            },
            "marker": {
             "colorbar": {
              "outlinewidth": 0,
              "ticks": ""
             }
            },
            "type": "scatter3d"
           }
          ],
          "scattercarpet": [
           {
            "marker": {
             "colorbar": {
              "outlinewidth": 0,
              "ticks": ""
             }
            },
            "type": "scattercarpet"
           }
          ],
          "scattergeo": [
           {
            "marker": {
             "colorbar": {
              "outlinewidth": 0,
              "ticks": ""
             }
            },
            "type": "scattergeo"
           }
          ],
          "scattergl": [
           {
            "marker": {
             "colorbar": {
              "outlinewidth": 0,
              "ticks": ""
             }
            },
            "type": "scattergl"
           }
          ],
          "scattermapbox": [
           {
            "marker": {
             "colorbar": {
              "outlinewidth": 0,
              "ticks": ""
             }
            },
            "type": "scattermapbox"
           }
          ],
          "scatterpolar": [
           {
            "marker": {
             "colorbar": {
              "outlinewidth": 0,
              "ticks": ""
             }
            },
            "type": "scatterpolar"
           }
          ],
          "scatterpolargl": [
           {
            "marker": {
             "colorbar": {
              "outlinewidth": 0,
              "ticks": ""
             }
            },
            "type": "scatterpolargl"
           }
          ],
          "scatterternary": [
           {
            "marker": {
             "colorbar": {
              "outlinewidth": 0,
              "ticks": ""
             }
            },
            "type": "scatterternary"
           }
          ],
          "surface": [
           {
            "colorbar": {
             "outlinewidth": 0,
             "ticks": ""
            },
            "colorscale": [
             [
              0,
              "#0d0887"
             ],
             [
              0.1111111111111111,
              "#46039f"
             ],
             [
              0.2222222222222222,
              "#7201a8"
             ],
             [
              0.3333333333333333,
              "#9c179e"
             ],
             [
              0.4444444444444444,
              "#bd3786"
             ],
             [
              0.5555555555555556,
              "#d8576b"
             ],
             [
              0.6666666666666666,
              "#ed7953"
             ],
             [
              0.7777777777777778,
              "#fb9f3a"
             ],
             [
              0.8888888888888888,
              "#fdca26"
             ],
             [
              1,
              "#f0f921"
             ]
            ],
            "type": "surface"
           }
          ],
          "table": [
           {
            "cells": {
             "fill": {
              "color": "#EBF0F8"
             },
             "line": {
              "color": "white"
             }
            },
            "header": {
             "fill": {
              "color": "#C8D4E3"
             },
             "line": {
              "color": "white"
             }
            },
            "type": "table"
           }
          ]
         },
         "layout": {
          "annotationdefaults": {
           "arrowcolor": "#2a3f5f",
           "arrowhead": 0,
           "arrowwidth": 1
          },
          "autotypenumbers": "strict",
          "coloraxis": {
           "colorbar": {
            "outlinewidth": 0,
            "ticks": ""
           }
          },
          "colorscale": {
           "diverging": [
            [
             0,
             "#8e0152"
            ],
            [
             0.1,
             "#c51b7d"
            ],
            [
             0.2,
             "#de77ae"
            ],
            [
             0.3,
             "#f1b6da"
            ],
            [
             0.4,
             "#fde0ef"
            ],
            [
             0.5,
             "#f7f7f7"
            ],
            [
             0.6,
             "#e6f5d0"
            ],
            [
             0.7,
             "#b8e186"
            ],
            [
             0.8,
             "#7fbc41"
            ],
            [
             0.9,
             "#4d9221"
            ],
            [
             1,
             "#276419"
            ]
           ],
           "sequential": [
            [
             0,
             "#0d0887"
            ],
            [
             0.1111111111111111,
             "#46039f"
            ],
            [
             0.2222222222222222,
             "#7201a8"
            ],
            [
             0.3333333333333333,
             "#9c179e"
            ],
            [
             0.4444444444444444,
             "#bd3786"
            ],
            [
             0.5555555555555556,
             "#d8576b"
            ],
            [
             0.6666666666666666,
             "#ed7953"
            ],
            [
             0.7777777777777778,
             "#fb9f3a"
            ],
            [
             0.8888888888888888,
             "#fdca26"
            ],
            [
             1,
             "#f0f921"
            ]
           ],
           "sequentialminus": [
            [
             0,
             "#0d0887"
            ],
            [
             0.1111111111111111,
             "#46039f"
            ],
            [
             0.2222222222222222,
             "#7201a8"
            ],
            [
             0.3333333333333333,
             "#9c179e"
            ],
            [
             0.4444444444444444,
             "#bd3786"
            ],
            [
             0.5555555555555556,
             "#d8576b"
            ],
            [
             0.6666666666666666,
             "#ed7953"
            ],
            [
             0.7777777777777778,
             "#fb9f3a"
            ],
            [
             0.8888888888888888,
             "#fdca26"
            ],
            [
             1,
             "#f0f921"
            ]
           ]
          },
          "colorway": [
           "#636efa",
           "#EF553B",
           "#00cc96",
           "#ab63fa",
           "#FFA15A",
           "#19d3f3",
           "#FF6692",
           "#B6E880",
           "#FF97FF",
           "#FECB52"
          ],
          "font": {
           "color": "#2a3f5f"
          },
          "geo": {
           "bgcolor": "white",
           "lakecolor": "white",
           "landcolor": "#E5ECF6",
           "showlakes": true,
           "showland": true,
           "subunitcolor": "white"
          },
          "hoverlabel": {
           "align": "left"
          },
          "hovermode": "closest",
          "mapbox": {
           "style": "light"
          },
          "paper_bgcolor": "white",
          "plot_bgcolor": "#E5ECF6",
          "polar": {
           "angularaxis": {
            "gridcolor": "white",
            "linecolor": "white",
            "ticks": ""
           },
           "bgcolor": "#E5ECF6",
           "radialaxis": {
            "gridcolor": "white",
            "linecolor": "white",
            "ticks": ""
           }
          },
          "scene": {
           "xaxis": {
            "backgroundcolor": "#E5ECF6",
            "gridcolor": "white",
            "gridwidth": 2,
            "linecolor": "white",
            "showbackground": true,
            "ticks": "",
            "zerolinecolor": "white"
           },
           "yaxis": {
            "backgroundcolor": "#E5ECF6",
            "gridcolor": "white",
            "gridwidth": 2,
            "linecolor": "white",
            "showbackground": true,
            "ticks": "",
            "zerolinecolor": "white"
           },
           "zaxis": {
            "backgroundcolor": "#E5ECF6",
            "gridcolor": "white",
            "gridwidth": 2,
            "linecolor": "white",
            "showbackground": true,
            "ticks": "",
            "zerolinecolor": "white"
           }
          },
          "shapedefaults": {
           "line": {
            "color": "#2a3f5f"
           }
          },
          "ternary": {
           "aaxis": {
            "gridcolor": "white",
            "linecolor": "white",
            "ticks": ""
           },
           "baxis": {
            "gridcolor": "white",
            "linecolor": "white",
            "ticks": ""
           },
           "bgcolor": "#E5ECF6",
           "caxis": {
            "gridcolor": "white",
            "linecolor": "white",
            "ticks": ""
           }
          },
          "title": {
           "x": 0.05
          },
          "xaxis": {
           "automargin": true,
           "gridcolor": "white",
           "linecolor": "white",
           "ticks": "",
           "title": {
            "standoff": 15
           },
           "zerolinecolor": "white",
           "zerolinewidth": 2
          },
          "yaxis": {
           "automargin": true,
           "gridcolor": "white",
           "linecolor": "white",
           "ticks": "",
           "title": {
            "standoff": 15
           },
           "zerolinecolor": "white",
           "zerolinewidth": 2
          }
         }
        },
        "title": {
         "text": "Monthly COVID-19 Deaths per 100k by State (2020)"
        }
       }
      }
     },
     "metadata": {},
     "output_type": "display_data"
    }
   ],
   "source": [
    "# 3.3 i) Monthly deaths per 100k heatmaps by state (2020), using cum_deaths\n",
    "import plotly.express as px\n",
    "\n",
    "# Ensure types\n",
    "covid_rates['date'] = pd.to_datetime(covid_rates['date'], errors='coerce')\n",
    "covid_rates['State'] = covid_rates['State'].astype(str).str.strip()\n",
    "covid_rates['cum_deaths'] = pd.to_numeric(covid_rates['cum_deaths'], errors='coerce')\n",
    "covid_rates['TotalPopEst2019'] = pd.to_numeric(covid_rates['TotalPopEst2019'], errors='coerce')\n",
    "\n",
    "# State population (sum counties once)\n",
    "state_pop = (\n",
    "    covid_rates[['FIPS', 'State', 'TotalPopEst2019']]\n",
    "    .dropna(subset=['FIPS', 'TotalPopEst2019'])\n",
    "    .drop_duplicates(subset=['FIPS'])\n",
    "    .groupby('State', as_index=False)['TotalPopEst2019']\n",
    "    .sum()\n",
    "    .rename(columns={'TotalPopEst2019': 'state_pop_2019'})\n",
    ")\n",
    "\n",
    "# Daily new deaths by state using same code as above for cum_cases\n",
    "state_daily_deaths = (\n",
    "    covid_rates\n",
    "    .groupby(['State', 'date'], as_index=False)['cum_deaths']\n",
    "    .sum()\n",
    "    .sort_values(['State', 'date'])\n",
    ")\n",
    "state_daily_deaths['new_deaths'] = (\n",
    "    state_daily_deaths\n",
    "    .groupby('State')['cum_deaths']\n",
    "    .diff()\n",
    "    .clip(lower=0)\n",
    ")\n",
    "\n",
    "# Monthly totals for 2020\n",
    "monthly_deaths = (\n",
    "    state_daily_deaths\n",
    "    .loc[state_daily_deaths['date'].dt.year == 2020]\n",
    "    .groupby(['State', pd.Grouper(key='date', freq='MS')], as_index=False)['new_deaths']\n",
    "    .sum()\n",
    "    .rename(columns={'date': 'month_start', 'new_deaths': 'monthly_deaths'})\n",
    ")\n",
    "\n",
    "# Complete grid of states x months (fill missing with 0)\n",
    "all_states = state_pop['State'].unique()\n",
    "all_months = pd.date_range('2020-01-01', '2020-12-01', freq='MS')\n",
    "complete = (\n",
    "    pd.MultiIndex.from_product([all_states, all_months], names=['State', 'month_start'])\n",
    "    .to_frame(index=False)\n",
    ")\n",
    "monthly_deaths = (\n",
    "    complete\n",
    "    .merge(monthly_deaths, on=['State', 'month_start'], how='left')\n",
    "    .fillna({'monthly_deaths': 0})\n",
    ")\n",
    "\n",
    "# Merge population and compute per 100k\n",
    "monthly_deaths = monthly_deaths.merge(state_pop, on='State', how='left')\n",
    "monthly_deaths['deaths_per100k'] = (monthly_deaths['monthly_deaths'] / monthly_deaths['state_pop_2019']) * 1e5\n",
    "monthly_deaths['month'] = monthly_deaths['month_start'].dt.month\n",
    "\n",
    "# State name -> USPS code (for Plotly)\n",
    "state_to_abbr = {\n",
    "    'Alabama':'AL','Alaska':'AK','Arizona':'AZ','Arkansas':'AR','California':'CA','Colorado':'CO',\n",
    "    'Connecticut':'CT','Delaware':'DE','District of Columbia':'DC','Florida':'FL','Georgia':'GA',\n",
    "    'Hawaii':'HI','Idaho':'ID','Illinois':'IL','Indiana':'IN','Iowa':'IA','Kansas':'KS',\n",
    "    'Kentucky':'KY','Louisiana':'LA','Maine':'ME','Maryland':'MD','Massachusetts':'MA',\n",
    "    'Michigan':'MI','Minnesota':'MN','Mississippi':'MS','Missouri':'MO','Montana':'MT',\n",
    "    'Nebraska':'NE','Nevada':'NV','New Hampshire':'NH','New Jersey':'NJ','New Mexico':'NM',\n",
    "    'New York':'NY','North Carolina':'NC','North Dakota':'ND','Ohio':'OH','Oklahoma':'OK',\n",
    "    'Oregon':'OR','Pennsylvania':'PA','Rhode Island':'RI','South Carolina':'SC',\n",
    "    'South Dakota':'SD','Tennessee':'TN','Texas':'TX','Utah':'UT','Vermont':'VT',\n",
    "    'Virginia':'VA','Washington':'WA','West Virginia':'WV','Wisconsin':'WI','Wyoming':'WY'\n",
    "}\n",
    "monthly_deaths['state_abbr'] = monthly_deaths['State'].map(state_to_abbr)\n",
    "\n",
    "vmax = monthly_deaths['deaths_per100k'].max()\n",
    "\n",
    "fig = px.choropleth(\n",
    "    monthly_deaths,\n",
    "    locations='state_abbr',\n",
    "    locationmode='USA-states',\n",
    "    color='deaths_per100k',\n",
    "    scope='usa',\n",
    "    facet_col='month',\n",
    "    facet_col_wrap=4,\n",
    "    category_orders={'month': list(range(1, 13))},\n",
    "    color_continuous_scale='Reds',\n",
    "    range_color=(0, vmax),\n",
    "    labels={'deaths_per100k': 'Deaths per 100k'},\n",
    "    title='Monthly COVID-19 Deaths per 100k by State (2020)'\n",
    ")\n",
    "fig.update_layout(coloraxis_colorbar_title='Deaths/100k', margin=dict(l=10, r=10, t=60, b=10))\n",
    "fig.show()"
   ]
  },
  {
   "cell_type": "markdown",
   "id": "6ae58697",
   "metadata": {},
   "source": [
    "\n",
    "ii) (Optional) Use plotly to animate the monthly maps in i). Does it reveal any systematic way\n",
    "to capture the dynamic changes among states? (Hints: Use plotly.express.choropleth()\n",
    "with animation frame argument for animation. Plotly recognizes state abbreviations for map-\n",
    "ping.)\n"
   ]
  }
 ],
 "metadata": {
  "kernelspec": {
   "display_name": "base",
   "language": "python",
   "name": "python3"
  },
  "language_info": {
   "codemirror_mode": {
    "name": "ipython",
    "version": 3
   },
   "file_extension": ".py",
   "mimetype": "text/x-python",
   "name": "python",
   "nbconvert_exporter": "python",
   "pygments_lexer": "ipython3",
   "version": "3.11.5"
  }
 },
 "nbformat": 4,
 "nbformat_minor": 5
}

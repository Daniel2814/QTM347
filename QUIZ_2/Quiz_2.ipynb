{
 "cells": [
  {
   "cell_type": "code",
   "execution_count": null,
   "id": "a19a22b6",
   "metadata": {},
   "outputs": [],
   "source": [
    "# QUIZ 2"
   ]
  },
  {
   "cell_type": "code",
   "execution_count": null,
   "id": "591650ba",
   "metadata": {},
   "outputs": [],
   "source": [
    "# 1 B: False"
   ]
  },
  {
   "cell_type": "code",
   "execution_count": null,
   "id": "51baddef",
   "metadata": {},
   "outputs": [],
   "source": [
    "# 2 A: True"
   ]
  },
  {
   "cell_type": "code",
   "execution_count": null,
   "id": "4e43cdf8",
   "metadata": {},
   "outputs": [],
   "source": [
    "# 3 A: PC1 accounts for approximately 80% of the total variance among the 4 PCs"
   ]
  },
  {
   "cell_type": "code",
   "execution_count": null,
   "id": "2616e20e",
   "metadata": {},
   "outputs": [],
   "source": [
    "# 4 B: There are 116 in cluster 1 and 84 in cluster 2."
   ]
  },
  {
   "cell_type": "code",
   "execution_count": null,
   "id": "6acecd6d",
   "metadata": {},
   "outputs": [],
   "source": [
    "# 5 (A) On average MPG Hwy decreases 0.044 when Horsepower increases by 1"
   ]
  },
  {
   "cell_type": "code",
   "execution_count": null,
   "id": "64355c91",
   "metadata": {},
   "outputs": [],
   "source": [
    "# 6: From fit2, we see that 1 unit increase in horsepower always results in a decrease in MPG Hwy on average by 0.028.\n",
    "\n",
    "# (B) False because you have to specify if you're holding weight constant"
   ]
  },
  {
   "cell_type": "code",
   "execution_count": null,
   "id": "3644d408",
   "metadata": {},
   "outputs": [],
   "source": [
    "# 7 (B) It is 46.989 −0.028 ×240 −4.01 ×3.5"
   ]
  },
  {
   "cell_type": "code",
   "execution_count": null,
   "id": "d6ab9f39",
   "metadata": {},
   "outputs": [],
   "source": [
    "# 8 (B) The linearity might be a problem since cars with smaller MPG Hwy seem to be overesti-mated."
   ]
  },
  {
   "cell_type": "code",
   "execution_count": null,
   "id": "960d1898",
   "metadata": {},
   "outputs": [],
   "source": [
    "# 9 (B) Because the F test in the summary report has a p-value much smaller than .001."
   ]
  }
 ],
 "metadata": {
  "kernelspec": {
   "display_name": "base",
   "language": "python",
   "name": "python3"
  },
  "language_info": {
   "codemirror_mode": {
    "name": "ipython",
    "version": 3
   },
   "file_extension": ".py",
   "mimetype": "text/x-python",
   "name": "python",
   "nbconvert_exporter": "python",
   "pygments_lexer": "ipython3",
   "version": "3.11.5"
  }
 },
 "nbformat": 4,
 "nbformat_minor": 5
}

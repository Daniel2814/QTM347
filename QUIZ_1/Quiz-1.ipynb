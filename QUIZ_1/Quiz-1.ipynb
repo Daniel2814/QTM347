{
 "cells": [
  {
   "cell_type": "markdown",
   "id": "c107bcf3",
   "metadata": {},
   "source": [
    "1. \n",
    "\n",
    "Let us first read the data in Python:\n",
    "import pandas as pd\n",
    "baseball = pd.read_csv(\"baseball.csv\")\n",
    "baseball.shape\n",
    "(510, 5)\n",
    "Based on the above Python chunk only, choose the correct answer(s):\n",
    "A. The dataset baseball.csv has 510 rows.\n",
    "B. The dataset baseball.csv has no missing values"
   ]
  },
  {
   "cell_type": "code",
   "execution_count": null,
   "id": "8644ed89",
   "metadata": {},
   "outputs": [
    {
     "name": "stdout",
     "output_type": "stream",
     "text": [
      "team       0\n",
      "year       0\n",
      "payroll    0\n",
      "win_num    0\n",
      "win_pct    0\n",
      "dtype: int64\n",
      "(510, 5)\n"
     ]
    }
   ],
   "source": [
    "# 1\n",
    "import pandas as pd\n",
    "baseball = pd.read_csv(\"/Users/danielnickas/Downloads/QTM347/QTM347/QUIZ_1/data/baseball.csv\")\n",
    "baseball.shape\n",
    "print(baseball.isnull().sum())\n",
    "print(baseball.shape)\n",
    "\n",
    "# A and B are correct"
   ]
  },
  {
   "cell_type": "code",
   "execution_count": null,
   "id": "429dcc80",
   "metadata": {},
   "outputs": [
    {
     "data": {
      "text/plain": [
       "0.03762733702236012"
      ]
     },
     "execution_count": 5,
     "metadata": {},
     "output_type": "execute_result"
    }
   ],
   "source": [
    "# 2\n",
    "\n",
    "data_agg = baseball.groupby(\"team\").agg(\n",
    "payroll_total = (\"payroll\", lambda x: x.sum()/1000),\n",
    "win_pct_ave = (\"win_pct\", \"mean\")\n",
    ").reset_index()\n",
    "# Here are some summaries:\n",
    "data_agg[\"win_pct_ave\"].mean() # 0.5\n",
    "data_agg[\"win_pct_ave\"].std() # 0.038\n",
    "\n",
    "# TRUE"
   ]
  },
  {
   "cell_type": "code",
   "execution_count": null,
   "id": "5aadd21e",
   "metadata": {},
   "outputs": [],
   "source": [
    "# 3\n",
    "\n",
    "# A is correct"
   ]
  },
  {
   "cell_type": "markdown",
   "id": "ec60fff6",
   "metadata": {},
   "source": [
    "#### 4. \n",
    "\n",
    "Assume that win pct ave follows a normal distribution. From the data, Oakland Ath-\n",
    "letics’s win pct ave = 0.54.\n",
    "\n",
    "A. Approximately, 5% of the teams have a higher win pct ave than that of Oak-\n",
    "land Athletics.\n",
    "\n",
    "B. Approximately, 2.5% of the teams have a higher win pct ave than that of\n",
    "Oakland Athletics.\n",
    "\n",
    "C. Approximately, 16% of the teams have a higher win pct ave than that of\n",
    "Oakland Athletics.\n",
    "\n",
    "D. Approximately, 16% of the teams have a lower win pct ave than that of Oak-\n",
    "land Athletics.\n",
    "\n",
    "#### C is correct "
   ]
  },
  {
   "cell_type": "code",
   "execution_count": null,
   "id": "743b4de9",
   "metadata": {},
   "outputs": [
    {
     "name": "stdout",
     "output_type": "stream",
     "text": [
      "A is correct\n"
     ]
    }
   ],
   "source": [
    "# 5\n",
    "\n",
    "# A: TRUE"
   ]
  },
  {
   "cell_type": "code",
   "execution_count": null,
   "id": "4d249197",
   "metadata": {},
   "outputs": [],
   "source": [
    "# 6\n",
    "\n",
    "# B: False"
   ]
  },
  {
   "cell_type": "code",
   "execution_count": null,
   "id": "a2f562c3",
   "metadata": {},
   "outputs": [],
   "source": [
    "# 7\n",
    "\n",
    "# A and B are correct"
   ]
  },
  {
   "cell_type": "code",
   "execution_count": null,
   "id": "a4fdde02",
   "metadata": {},
   "outputs": [],
   "source": [
    "# 8\n",
    "\n",
    "# IF THE QUESTION IS REALLY YEAR BY YEAR, THEN B: False"
   ]
  },
  {
   "cell_type": "code",
   "execution_count": null,
   "id": "ecc30ad5",
   "metadata": {},
   "outputs": [],
   "source": [
    "# 9\n",
    "\n",
    "# A, B, C "
   ]
  },
  {
   "cell_type": "code",
   "execution_count": null,
   "id": "7bf3dfd1",
   "metadata": {},
   "outputs": [],
   "source": [
    "# 10\n",
    "\n",
    "# C"
   ]
  },
  {
   "cell_type": "code",
   "execution_count": null,
   "id": "09b45239",
   "metadata": {},
   "outputs": [],
   "source": [
    "# 11 \n",
    "\n",
    "# A"
   ]
  },
  {
   "cell_type": "code",
   "execution_count": null,
   "id": "6f40d72d",
   "metadata": {},
   "outputs": [],
   "source": [
    "# 12\n",
    "\n",
    "# B and C"
   ]
  },
  {
   "cell_type": "code",
   "execution_count": null,
   "id": "0fe51513",
   "metadata": {},
   "outputs": [],
   "source": [
    "# 13\n",
    "\n",
    "# A and B and C"
   ]
  }
 ],
 "metadata": {
  "kernelspec": {
   "display_name": "base",
   "language": "python",
   "name": "python3"
  },
  "language_info": {
   "codemirror_mode": {
    "name": "ipython",
    "version": 3
   },
   "file_extension": ".py",
   "mimetype": "text/x-python",
   "name": "python",
   "nbconvert_exporter": "python",
   "pygments_lexer": "ipython3",
   "version": "3.11.5"
  }
 },
 "nbformat": 4,
 "nbformat_minor": 5
}
